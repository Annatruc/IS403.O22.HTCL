{
  "cells": [
    {
      "cell_type": "markdown",
      "id": "c795f7b2",
      "metadata": {
        "id": "c795f7b2"
      },
      "source": [
        "# Step 1: Import modules"
      ]
    },
    {
      "cell_type": "code",
      "execution_count": null,
      "id": "5e9dcbe4",
      "metadata": {
        "id": "5e9dcbe4"
      },
      "outputs": [],
      "source": [
        "import numpy as np\n",
        "import pandas as pd\n",
        "import math\n",
        "import statistics as st\n",
        "import matplotlib.pyplot as plt\n",
        "import seaborn as sns\n",
        "from scipy.stats import skew\n",
        "from scipy.stats import kurtosis"
      ]
    },
    {
      "cell_type": "markdown",
      "id": "f392b531",
      "metadata": {
        "id": "f392b531"
      },
      "source": [
        "# Step 2: Read the dataset"
      ]
    },
    {
      "cell_type": "code",
      "execution_count": null,
      "id": "ba3d3b9c",
      "metadata": {
        "colab": {
          "base_uri": "https://localhost:8080/",
          "height": 206
        },
        "id": "ba3d3b9c",
        "outputId": "4c146083-f4b8-40c9-a4cf-823a52c18305"
      },
      "outputs": [
        {
          "output_type": "execute_result",
          "data": {
            "text/plain": [
              "   sample  time\n",
              "0       1    18\n",
              "1       2    15\n",
              "2       3    17\n",
              "3       4     9\n",
              "4       5    37"
            ],
            "text/html": [
              "\n",
              "  <div id=\"df-7eaa6b32-7254-48d5-8ebb-7cddf1a42f76\" class=\"colab-df-container\">\n",
              "    <div>\n",
              "<style scoped>\n",
              "    .dataframe tbody tr th:only-of-type {\n",
              "        vertical-align: middle;\n",
              "    }\n",
              "\n",
              "    .dataframe tbody tr th {\n",
              "        vertical-align: top;\n",
              "    }\n",
              "\n",
              "    .dataframe thead th {\n",
              "        text-align: right;\n",
              "    }\n",
              "</style>\n",
              "<table border=\"1\" class=\"dataframe\">\n",
              "  <thead>\n",
              "    <tr style=\"text-align: right;\">\n",
              "      <th></th>\n",
              "      <th>sample</th>\n",
              "      <th>time</th>\n",
              "    </tr>\n",
              "  </thead>\n",
              "  <tbody>\n",
              "    <tr>\n",
              "      <th>0</th>\n",
              "      <td>1</td>\n",
              "      <td>18</td>\n",
              "    </tr>\n",
              "    <tr>\n",
              "      <th>1</th>\n",
              "      <td>2</td>\n",
              "      <td>15</td>\n",
              "    </tr>\n",
              "    <tr>\n",
              "      <th>2</th>\n",
              "      <td>3</td>\n",
              "      <td>17</td>\n",
              "    </tr>\n",
              "    <tr>\n",
              "      <th>3</th>\n",
              "      <td>4</td>\n",
              "      <td>9</td>\n",
              "    </tr>\n",
              "    <tr>\n",
              "      <th>4</th>\n",
              "      <td>5</td>\n",
              "      <td>37</td>\n",
              "    </tr>\n",
              "  </tbody>\n",
              "</table>\n",
              "</div>\n",
              "    <div class=\"colab-df-buttons\">\n",
              "\n",
              "  <div class=\"colab-df-container\">\n",
              "    <button class=\"colab-df-convert\" onclick=\"convertToInteractive('df-7eaa6b32-7254-48d5-8ebb-7cddf1a42f76')\"\n",
              "            title=\"Convert this dataframe to an interactive table.\"\n",
              "            style=\"display:none;\">\n",
              "\n",
              "  <svg xmlns=\"http://www.w3.org/2000/svg\" height=\"24px\" viewBox=\"0 -960 960 960\">\n",
              "    <path d=\"M120-120v-720h720v720H120Zm60-500h600v-160H180v160Zm220 220h160v-160H400v160Zm0 220h160v-160H400v160ZM180-400h160v-160H180v160Zm440 0h160v-160H620v160ZM180-180h160v-160H180v160Zm440 0h160v-160H620v160Z\"/>\n",
              "  </svg>\n",
              "    </button>\n",
              "\n",
              "  <style>\n",
              "    .colab-df-container {\n",
              "      display:flex;\n",
              "      gap: 12px;\n",
              "    }\n",
              "\n",
              "    .colab-df-convert {\n",
              "      background-color: #E8F0FE;\n",
              "      border: none;\n",
              "      border-radius: 50%;\n",
              "      cursor: pointer;\n",
              "      display: none;\n",
              "      fill: #1967D2;\n",
              "      height: 32px;\n",
              "      padding: 0 0 0 0;\n",
              "      width: 32px;\n",
              "    }\n",
              "\n",
              "    .colab-df-convert:hover {\n",
              "      background-color: #E2EBFA;\n",
              "      box-shadow: 0px 1px 2px rgba(60, 64, 67, 0.3), 0px 1px 3px 1px rgba(60, 64, 67, 0.15);\n",
              "      fill: #174EA6;\n",
              "    }\n",
              "\n",
              "    .colab-df-buttons div {\n",
              "      margin-bottom: 4px;\n",
              "    }\n",
              "\n",
              "    [theme=dark] .colab-df-convert {\n",
              "      background-color: #3B4455;\n",
              "      fill: #D2E3FC;\n",
              "    }\n",
              "\n",
              "    [theme=dark] .colab-df-convert:hover {\n",
              "      background-color: #434B5C;\n",
              "      box-shadow: 0px 1px 3px 1px rgba(0, 0, 0, 0.15);\n",
              "      filter: drop-shadow(0px 1px 2px rgba(0, 0, 0, 0.3));\n",
              "      fill: #FFFFFF;\n",
              "    }\n",
              "  </style>\n",
              "\n",
              "    <script>\n",
              "      const buttonEl =\n",
              "        document.querySelector('#df-7eaa6b32-7254-48d5-8ebb-7cddf1a42f76 button.colab-df-convert');\n",
              "      buttonEl.style.display =\n",
              "        google.colab.kernel.accessAllowed ? 'block' : 'none';\n",
              "\n",
              "      async function convertToInteractive(key) {\n",
              "        const element = document.querySelector('#df-7eaa6b32-7254-48d5-8ebb-7cddf1a42f76');\n",
              "        const dataTable =\n",
              "          await google.colab.kernel.invokeFunction('convertToInteractive',\n",
              "                                                    [key], {});\n",
              "        if (!dataTable) return;\n",
              "\n",
              "        const docLinkHtml = 'Like what you see? Visit the ' +\n",
              "          '<a target=\"_blank\" href=https://colab.research.google.com/notebooks/data_table.ipynb>data table notebook</a>'\n",
              "          + ' to learn more about interactive tables.';\n",
              "        element.innerHTML = '';\n",
              "        dataTable['output_type'] = 'display_data';\n",
              "        await google.colab.output.renderOutput(dataTable, element);\n",
              "        const docLink = document.createElement('div');\n",
              "        docLink.innerHTML = docLinkHtml;\n",
              "        element.appendChild(docLink);\n",
              "      }\n",
              "    </script>\n",
              "  </div>\n",
              "\n",
              "\n",
              "<div id=\"df-36344f06-c32f-4c46-b33a-49cdf6f730c3\">\n",
              "  <button class=\"colab-df-quickchart\" onclick=\"quickchart('df-36344f06-c32f-4c46-b33a-49cdf6f730c3')\"\n",
              "            title=\"Suggest charts\"\n",
              "            style=\"display:none;\">\n",
              "\n",
              "<svg xmlns=\"http://www.w3.org/2000/svg\" height=\"24px\"viewBox=\"0 0 24 24\"\n",
              "     width=\"24px\">\n",
              "    <g>\n",
              "        <path d=\"M19 3H5c-1.1 0-2 .9-2 2v14c0 1.1.9 2 2 2h14c1.1 0 2-.9 2-2V5c0-1.1-.9-2-2-2zM9 17H7v-7h2v7zm4 0h-2V7h2v10zm4 0h-2v-4h2v4z\"/>\n",
              "    </g>\n",
              "</svg>\n",
              "  </button>\n",
              "\n",
              "<style>\n",
              "  .colab-df-quickchart {\n",
              "      --bg-color: #E8F0FE;\n",
              "      --fill-color: #1967D2;\n",
              "      --hover-bg-color: #E2EBFA;\n",
              "      --hover-fill-color: #174EA6;\n",
              "      --disabled-fill-color: #AAA;\n",
              "      --disabled-bg-color: #DDD;\n",
              "  }\n",
              "\n",
              "  [theme=dark] .colab-df-quickchart {\n",
              "      --bg-color: #3B4455;\n",
              "      --fill-color: #D2E3FC;\n",
              "      --hover-bg-color: #434B5C;\n",
              "      --hover-fill-color: #FFFFFF;\n",
              "      --disabled-bg-color: #3B4455;\n",
              "      --disabled-fill-color: #666;\n",
              "  }\n",
              "\n",
              "  .colab-df-quickchart {\n",
              "    background-color: var(--bg-color);\n",
              "    border: none;\n",
              "    border-radius: 50%;\n",
              "    cursor: pointer;\n",
              "    display: none;\n",
              "    fill: var(--fill-color);\n",
              "    height: 32px;\n",
              "    padding: 0;\n",
              "    width: 32px;\n",
              "  }\n",
              "\n",
              "  .colab-df-quickchart:hover {\n",
              "    background-color: var(--hover-bg-color);\n",
              "    box-shadow: 0 1px 2px rgba(60, 64, 67, 0.3), 0 1px 3px 1px rgba(60, 64, 67, 0.15);\n",
              "    fill: var(--button-hover-fill-color);\n",
              "  }\n",
              "\n",
              "  .colab-df-quickchart-complete:disabled,\n",
              "  .colab-df-quickchart-complete:disabled:hover {\n",
              "    background-color: var(--disabled-bg-color);\n",
              "    fill: var(--disabled-fill-color);\n",
              "    box-shadow: none;\n",
              "  }\n",
              "\n",
              "  .colab-df-spinner {\n",
              "    border: 2px solid var(--fill-color);\n",
              "    border-color: transparent;\n",
              "    border-bottom-color: var(--fill-color);\n",
              "    animation:\n",
              "      spin 1s steps(1) infinite;\n",
              "  }\n",
              "\n",
              "  @keyframes spin {\n",
              "    0% {\n",
              "      border-color: transparent;\n",
              "      border-bottom-color: var(--fill-color);\n",
              "      border-left-color: var(--fill-color);\n",
              "    }\n",
              "    20% {\n",
              "      border-color: transparent;\n",
              "      border-left-color: var(--fill-color);\n",
              "      border-top-color: var(--fill-color);\n",
              "    }\n",
              "    30% {\n",
              "      border-color: transparent;\n",
              "      border-left-color: var(--fill-color);\n",
              "      border-top-color: var(--fill-color);\n",
              "      border-right-color: var(--fill-color);\n",
              "    }\n",
              "    40% {\n",
              "      border-color: transparent;\n",
              "      border-right-color: var(--fill-color);\n",
              "      border-top-color: var(--fill-color);\n",
              "    }\n",
              "    60% {\n",
              "      border-color: transparent;\n",
              "      border-right-color: var(--fill-color);\n",
              "    }\n",
              "    80% {\n",
              "      border-color: transparent;\n",
              "      border-right-color: var(--fill-color);\n",
              "      border-bottom-color: var(--fill-color);\n",
              "    }\n",
              "    90% {\n",
              "      border-color: transparent;\n",
              "      border-bottom-color: var(--fill-color);\n",
              "    }\n",
              "  }\n",
              "</style>\n",
              "\n",
              "  <script>\n",
              "    async function quickchart(key) {\n",
              "      const quickchartButtonEl =\n",
              "        document.querySelector('#' + key + ' button');\n",
              "      quickchartButtonEl.disabled = true;  // To prevent multiple clicks.\n",
              "      quickchartButtonEl.classList.add('colab-df-spinner');\n",
              "      try {\n",
              "        const charts = await google.colab.kernel.invokeFunction(\n",
              "            'suggestCharts', [key], {});\n",
              "      } catch (error) {\n",
              "        console.error('Error during call to suggestCharts:', error);\n",
              "      }\n",
              "      quickchartButtonEl.classList.remove('colab-df-spinner');\n",
              "      quickchartButtonEl.classList.add('colab-df-quickchart-complete');\n",
              "    }\n",
              "    (() => {\n",
              "      let quickchartButtonEl =\n",
              "        document.querySelector('#df-36344f06-c32f-4c46-b33a-49cdf6f730c3 button');\n",
              "      quickchartButtonEl.style.display =\n",
              "        google.colab.kernel.accessAllowed ? 'block' : 'none';\n",
              "    })();\n",
              "  </script>\n",
              "</div>\n",
              "    </div>\n",
              "  </div>\n"
            ],
            "application/vnd.google.colaboratory.intrinsic+json": {
              "type": "dataframe",
              "variable_name": "cptrp_lab",
              "summary": "{\n  \"name\": \"cptrp_lab\",\n  \"rows\": 250,\n  \"fields\": [\n    {\n      \"column\": \"sample\",\n      \"properties\": {\n        \"dtype\": \"number\",\n        \"std\": 72,\n        \"min\": 1,\n        \"max\": 250,\n        \"num_unique_values\": 250,\n        \"samples\": [\n          143,\n          7,\n          98\n        ],\n        \"semantic_type\": \"\",\n        \"description\": \"\"\n      }\n    },\n    {\n      \"column\": \"time\",\n      \"properties\": {\n        \"dtype\": \"number\",\n        \"std\": 5,\n        \"min\": 5,\n        \"max\": 40,\n        \"num_unique_values\": 30,\n        \"samples\": [\n          6,\n          7,\n          23\n        ],\n        \"semantic_type\": \"\",\n        \"description\": \"\"\n      }\n    }\n  ]\n}"
            }
          },
          "metadata": {},
          "execution_count": 5
        }
      ],
      "source": [
        "cptrp_lab = pd.read_csv(\"Computer-Repair-Times.csv\")\n",
        "cptrp_lab.head()"
      ]
    },
    {
      "cell_type": "markdown",
      "id": "f3eee565",
      "metadata": {
        "id": "f3eee565"
      },
      "source": [
        "# Step 3: Rename (Optional)"
      ]
    },
    {
      "cell_type": "code",
      "execution_count": null,
      "id": "3d54f2b9",
      "metadata": {
        "id": "3d54f2b9"
      },
      "outputs": [],
      "source": [
        "rpt=cptrp_lab.time"
      ]
    },
    {
      "cell_type": "markdown",
      "id": "f02e4a25",
      "metadata": {
        "id": "f02e4a25"
      },
      "source": [
        "# Start doing the statistics"
      ]
    },
    {
      "cell_type": "markdown",
      "id": "964c8fe2",
      "metadata": {
        "id": "964c8fe2"
      },
      "source": [
        "## 1. Finding mean of Repair Time (time)"
      ]
    },
    {
      "cell_type": "markdown",
      "id": "a8a2357f",
      "metadata": {
        "id": "a8a2357f"
      },
      "source": [
        "##### Average/Mean formula:\n",
        "## $\\bar{x}=\\frac{\\sum_{i=1}^{n}x_{i}}{n}$"
      ]
    },
    {
      "cell_type": "code",
      "execution_count": null,
      "id": "3c2de3b1",
      "metadata": {
        "colab": {
          "base_uri": "https://localhost:8080/"
        },
        "id": "3c2de3b1",
        "outputId": "d81b10f1-58a1-469b-c146-214d04fa4db8"
      },
      "outputs": [
        {
          "output_type": "execute_result",
          "data": {
            "text/plain": [
              "14.912"
            ]
          },
          "metadata": {},
          "execution_count": 14
        }
      ],
      "source": [
        "#using the ordinary method (by formula)\n",
        "mean_or=sum(rpt)/len(rpt)\n",
        "mean_or"
      ]
    },
    {
      "cell_type": "code",
      "execution_count": null,
      "id": "88889643",
      "metadata": {
        "colab": {
          "base_uri": "https://localhost:8080/"
        },
        "id": "88889643",
        "outputId": "25e6a335-4152-4b06-c17c-0a778e32c78f"
      },
      "outputs": [
        {
          "output_type": "execute_result",
          "data": {
            "text/plain": [
              "14.912"
            ]
          },
          "metadata": {},
          "execution_count": 15
        }
      ],
      "source": [
        "#using available commands from statistical libraries\n",
        "st.mean(rpt)"
      ]
    },
    {
      "cell_type": "markdown",
      "id": "08966781",
      "metadata": {
        "id": "08966781"
      },
      "source": [
        "## 2. Finding median of Repair Time (time)\n",
        "#### To find the median:\n",
        "<ol>\n",
        "<li>Arrange the data points from smallest to largest.</li>\n",
        "<li>If the number of data points is odd, the median is the middle data point in the list.</li>\n",
        "<li>If the number of data points is even, the median is the average of the two middle data points in the list.</li>\n",
        "</ol>"
      ]
    },
    {
      "cell_type": "code",
      "execution_count": null,
      "id": "26d63569",
      "metadata": {
        "colab": {
          "base_uri": "https://localhost:8080/"
        },
        "id": "26d63569",
        "outputId": "d59cfd9a-b9fb-4795-9609-153a34a487e5"
      },
      "outputs": [
        {
          "output_type": "execute_result",
          "data": {
            "text/plain": [
              "14"
            ]
          },
          "metadata": {},
          "execution_count": 6
        }
      ],
      "source": [
        "#finding if the number of data points is odd or even\n",
        "n=len(rpt)\n",
        "\n",
        "#arrange the data points from smallest to largest - using bubble sort\n",
        "for i in range(n - 1):\n",
        "    for j in range(0, n - i - 1):\n",
        "        if rpt[j] > rpt[j + 1]:\n",
        "            #swaping position\n",
        "            rpt[j], rpt[j + 1] = rpt[j + 1], rpt[j]\n",
        "\n",
        "#The middle index is also the median\n",
        "middle_index = n // 2\n",
        "median_or = rpt[middle_index]\n",
        "median_or"
      ]
    },
    {
      "cell_type": "code",
      "execution_count": null,
      "id": "d50a9494",
      "metadata": {
        "colab": {
          "base_uri": "https://localhost:8080/"
        },
        "id": "d50a9494",
        "outputId": "3c763c70-35df-4953-b636-baa034dff849"
      },
      "outputs": [
        {
          "output_type": "execute_result",
          "data": {
            "text/plain": [
              "14.0"
            ]
          },
          "metadata": {},
          "execution_count": 10
        }
      ],
      "source": [
        "st.median(rpt)"
      ]
    },
    {
      "cell_type": "markdown",
      "id": "a87024cb",
      "metadata": {
        "id": "a87024cb"
      },
      "source": [
        "## 3. Finding variance\n",
        "#### Variance formula:\n",
        "## $s^{2}=\\frac {\\sum_{i=1}^{n}{(x_{i}-\\bar{x})}^{2}}{n-1} $"
      ]
    },
    {
      "cell_type": "code",
      "execution_count": null,
      "id": "798f541c",
      "metadata": {
        "colab": {
          "base_uri": "https://localhost:8080/"
        },
        "id": "798f541c",
        "outputId": "e80b29db-b77c-4bb2-94f2-50b976764527"
      },
      "outputs": [
        {
          "output_type": "execute_result",
          "data": {
            "text/plain": [
              "35.0"
            ]
          },
          "metadata": {},
          "execution_count": 16
        }
      ],
      "source": [
        "#using ordinary method (formula)\n",
        "var_or = sum((x - mean_or) ** 2 for x in rpt) // (n-1)\n",
        "var_or"
      ]
    },
    {
      "cell_type": "code",
      "execution_count": null,
      "id": "b514e2cc",
      "metadata": {
        "colab": {
          "base_uri": "https://localhost:8080/"
        },
        "id": "b514e2cc",
        "outputId": "e74f333e-9eee-4690-d101-f22cde9e52a1"
      },
      "outputs": [
        {
          "output_type": "execute_result",
          "data": {
            "text/plain": [
              "35.502265060240966"
            ]
          },
          "metadata": {},
          "execution_count": 9
        }
      ],
      "source": [
        "#tool from lib st\n",
        "st.variance(rpt)"
      ]
    },
    {
      "cell_type": "markdown",
      "id": "065d310f",
      "metadata": {
        "id": "065d310f"
      },
      "source": [
        "## 4. Finding standard deviation\n",
        "\n",
        "> Indented block\n",
        "\n",
        "\n",
        "#### Standard deviation formula:\n",
        "## $s=\\sqrt{s^{2}}=\\sqrt{\\frac {\\sum_{i=1}^{n}{(x_{i}-\\bar{x})}^{2}}{n-1}}$"
      ]
    },
    {
      "cell_type": "code",
      "execution_count": null,
      "id": "e4423e91",
      "metadata": {
        "colab": {
          "base_uri": "https://localhost:8080/"
        },
        "id": "e4423e91",
        "outputId": "79ca0aaf-7f14-41e0-81b9-6083355e7f4b"
      },
      "outputs": [
        {
          "output_type": "execute_result",
          "data": {
            "text/plain": [
              "5.916079783099616"
            ]
          },
          "metadata": {},
          "execution_count": 17
        }
      ],
      "source": [
        "#using basic math library\n",
        "stdev_or=math.sqrt(var_or)\n",
        "stdev_or"
      ]
    },
    {
      "cell_type": "code",
      "execution_count": null,
      "id": "54b47e37",
      "metadata": {
        "colab": {
          "base_uri": "https://localhost:8080/"
        },
        "id": "54b47e37",
        "outputId": "725e3b64-a98b-40a3-a1e6-ae6d0ba368d5"
      },
      "outputs": [
        {
          "output_type": "execute_result",
          "data": {
            "text/plain": [
              "5.958377720507568"
            ]
          },
          "metadata": {},
          "execution_count": 12
        }
      ],
      "source": [
        "st.stdev(rpt)"
      ]
    },
    {
      "cell_type": "markdown",
      "id": "083dd9c8",
      "metadata": {
        "id": "083dd9c8"
      },
      "source": [
        "## 5. Finding mode"
      ]
    },
    {
      "cell_type": "code",
      "execution_count": null,
      "id": "6eb90fc2",
      "metadata": {
        "colab": {
          "base_uri": "https://localhost:8080/"
        },
        "id": "6eb90fc2",
        "outputId": "035850af-f244-4ce5-cafa-a5d0ff070f98"
      },
      "outputs": [
        {
          "output_type": "execute_result",
          "data": {
            "text/plain": [
              "[12, 15]"
            ]
          },
          "metadata": {},
          "execution_count": 13
        }
      ],
      "source": [
        "#using the ordinary method by coding:\n",
        "\n",
        "def find_mode(rpt):\n",
        "    frequency = {}\n",
        "\n",
        "    # Count the frequency of each number appearing\n",
        "    for num in rpt:\n",
        "        if num in frequency:\n",
        "            frequency[num] += 1\n",
        "        else:\n",
        "            frequency[num] = 1\n",
        "\n",
        "    # Find the highest frequency of occurrence\n",
        "    max_frequency = max(frequency.values())\n",
        "\n",
        "    # Create a list containing modes\n",
        "    modes = []\n",
        "    for num, freq in frequency.items():\n",
        "        if freq == max_frequency:\n",
        "            modes.append(num)\n",
        "\n",
        "    return modes\n",
        "\n",
        "mode_or = find_mode(rpt)\n",
        "mode_or"
      ]
    },
    {
      "cell_type": "code",
      "execution_count": null,
      "id": "8f6d01a4",
      "metadata": {
        "colab": {
          "base_uri": "https://localhost:8080/"
        },
        "id": "8f6d01a4",
        "outputId": "ebb737d2-6230-4f70-c8a5-2b0315ef650d"
      },
      "outputs": [
        {
          "output_type": "execute_result",
          "data": {
            "text/plain": [
              "12"
            ]
          },
          "metadata": {},
          "execution_count": 14
        }
      ],
      "source": [
        "st.mode(rpt)"
      ]
    },
    {
      "cell_type": "markdown",
      "id": "328cba3b",
      "metadata": {
        "id": "328cba3b"
      },
      "source": [
        "> Explanation: Due to the fact that the if else statement will scan the complete data set and record the values with the greatest number of repeats into a string, the output contains all numbers with the greatest number of repetitions, even in the scenario when the repetitions of these values are identical."
      ]
    },
    {
      "cell_type": "markdown",
      "id": "d43d47ea",
      "metadata": {
        "id": "d43d47ea"
      },
      "source": [
        "## 6. Finding quantiles"
      ]
    },
    {
      "cell_type": "code",
      "execution_count": null,
      "id": "d07a2aa2",
      "metadata": {
        "colab": {
          "base_uri": "https://localhost:8080/"
        },
        "id": "d07a2aa2",
        "outputId": "7d8a05f6-a584-4826-cbf4-775ad0f1984e"
      },
      "outputs": [
        {
          "output_type": "stream",
          "name": "stdout",
          "text": [
            "11.0\n",
            "14.0\n",
            "17.0\n"
          ]
        }
      ],
      "source": [
        "q1 = np.quantile(rpt, 0.25)\n",
        "q2 = np.quantile(rpt, 0.5)\n",
        "q3 = np.quantile(rpt, 0.75)\n",
        "print(q1)\n",
        "print(q2)\n",
        "print(q3)"
      ]
    },
    {
      "cell_type": "markdown",
      "id": "863fb51b",
      "metadata": {
        "id": "863fb51b"
      },
      "source": [
        "## 7. Finding skewness\n",
        "### Skewness formula:\n",
        "## $skew[x]={\\frac{n}{(n-1)(n-2)}}{\\sum_{i=1}^{n}({\\frac{x_{i}-\\bar{x}}{s}})^{3}}$"
      ]
    },
    {
      "cell_type": "code",
      "execution_count": null,
      "id": "a7630ba8",
      "metadata": {
        "colab": {
          "base_uri": "https://localhost:8080/"
        },
        "id": "a7630ba8",
        "outputId": "b35e0682-c087-480c-f7c9-ce3b5c228bf4"
      },
      "outputs": [
        {
          "output_type": "execute_result",
          "data": {
            "text/plain": [
              "1.7318980834350597"
            ]
          },
          "metadata": {},
          "execution_count": 16
        }
      ],
      "source": [
        "#using the formula:\n",
        "skew_or=(n / ((n - 1) * (n - 2))) * sum(((x - mean_or) / stdev_or) ** 3 for x in rpt)\n",
        "skew_or"
      ]
    },
    {
      "cell_type": "code",
      "execution_count": null,
      "id": "115f4b1b",
      "metadata": {
        "colab": {
          "base_uri": "https://localhost:8080/"
        },
        "id": "115f4b1b",
        "outputId": "ea53d0a9-1e91-4df7-98ec-5902bbaf7ff4"
      },
      "outputs": [
        {
          "output_type": "execute_result",
          "data": {
            "text/plain": [
              "1.6850869214811053"
            ]
          },
          "metadata": {},
          "execution_count": 17
        }
      ],
      "source": [
        "skew(rpt)"
      ]
    },
    {
      "cell_type": "code",
      "execution_count": null,
      "id": "e320e53f",
      "metadata": {
        "colab": {
          "base_uri": "https://localhost:8080/"
        },
        "id": "e320e53f",
        "outputId": "a1195e36-78cc-4871-c5ea-811daf69055d"
      },
      "outputs": [
        {
          "output_type": "execute_result",
          "data": {
            "text/plain": [
              "1.6952755753095303"
            ]
          },
          "metadata": {},
          "execution_count": 18
        }
      ],
      "source": [
        "skew(rpt,bias=False)"
      ]
    },
    {
      "cell_type": "markdown",
      "id": "1c44f81c",
      "metadata": {
        "id": "1c44f81c"
      },
      "source": [
        "## 8. Finding kurtosis\n",
        "### Kurtosis formula:\n",
        "## $kurtosis={\\frac{n(n+1)}{(n-1)(n-2)(n-3)}}{\\frac{\\sum_{i=1}^{n}(x_{i}-\\bar{x})^{4}}{{s}^{4}}}$"
      ]
    },
    {
      "cell_type": "code",
      "execution_count": null,
      "id": "94ef937d",
      "metadata": {
        "colab": {
          "base_uri": "https://localhost:8080/"
        },
        "id": "94ef937d",
        "outputId": "83da5fda-6e03-4c68-a80d-50a900f5995c"
      },
      "outputs": [
        {
          "output_type": "execute_result",
          "data": {
            "text/plain": [
              "4.284709990134218"
            ]
          },
          "metadata": {},
          "execution_count": 19
        }
      ],
      "source": [
        "kurt_or = kurt = (n * (n + 1) / ((n - 1) * (n - 2) * (n - 3))) * sum(((x - mean_or) / stdev_or) ** 4 for x in rpt) - 3 * ((n - 1) ** 2) / ((n - 2) * (n - 3))\n",
        "kurt_or"
      ]
    },
    {
      "cell_type": "code",
      "execution_count": null,
      "id": "000f0eaf",
      "metadata": {
        "colab": {
          "base_uri": "https://localhost:8080/"
        },
        "id": "000f0eaf",
        "outputId": "45848b08-a153-4f76-ed64-f96899905611"
      },
      "outputs": [
        {
          "output_type": "execute_result",
          "data": {
            "text/plain": [
              "3.9739941108050942"
            ]
          },
          "metadata": {},
          "execution_count": 20
        }
      ],
      "source": [
        "kurtosis(rpt)"
      ]
    },
    {
      "cell_type": "code",
      "execution_count": null,
      "id": "dd4808df",
      "metadata": {
        "colab": {
          "base_uri": "https://localhost:8080/"
        },
        "id": "dd4808df",
        "outputId": "6068245e-c34f-433f-fd3d-340dd257630c"
      },
      "outputs": [
        {
          "output_type": "execute_result",
          "data": {
            "text/plain": [
              "4.079023408828646"
            ]
          },
          "metadata": {},
          "execution_count": 21
        }
      ],
      "source": [
        "kurtosis(rpt,bias=False)"
      ]
    },
    {
      "cell_type": "markdown",
      "id": "baa8e32a",
      "metadata": {
        "id": "baa8e32a"
      },
      "source": [
        "## Step 4: Visualizing the dataset"
      ]
    },
    {
      "cell_type": "markdown",
      "id": "d51daf07",
      "metadata": {
        "id": "d51daf07"
      },
      "source": [
        "### 1. Histogram"
      ]
    },
    {
      "cell_type": "code",
      "execution_count": null,
      "id": "a814a6a2",
      "metadata": {
        "colab": {
          "base_uri": "https://localhost:8080/",
          "height": 452
        },
        "id": "a814a6a2",
        "outputId": "401cc3d0-2467-46f8-ea87-794c73ba8143"
      },
      "outputs": [
        {
          "output_type": "display_data",
          "data": {
            "text/plain": [
              "<Figure size 640x480 with 1 Axes>"
            ],
            "image/png": "[encoded data removed]"
          },
          "metadata": {}
        }
      ],
      "source": [
        "plt.hist(rpt, alpha=0.5)\n",
        "plt.title('Histogram of repair time')\n",
        "plt.grid(True, axis='y', color='grey', linestyle='-', linewidth=0.5)\n",
        "plt.grid(True, axis='x', color='grey', linestyle='-', linewidth=0.5)\n",
        "plt.show()"
      ]
    },
    {
      "cell_type": "markdown",
      "id": "c48af60e",
      "metadata": {
        "id": "c48af60e"
      },
      "source": [
        "### 2. Boxplot"
      ]
    },
    {
      "cell_type": "code",
      "execution_count": null,
      "id": "be4bea02",
      "metadata": {
        "colab": {
          "base_uri": "https://localhost:8080/",
          "height": 430
        },
        "id": "be4bea02",
        "outputId": "c6290572-4215-429f-8f83-e8acca2a3458"
      },
      "outputs": [
        {
          "output_type": "display_data",
          "data": {
            "text/plain": [
              "<Figure size 640x480 with 1 Axes>"
            ],
            "image/png": "[encoded data removed]"
          },
          "metadata": {}
        }
      ],
      "source": [
        "#using plt lib\n",
        "outlier_color = dict(markerfacecolor='red')\n",
        "plt.boxplot(rpt, flierprops=outlier_color)\n",
        "plt.grid(True, axis='y', color='grey', linestyle='-', linewidth=0.5)\n",
        "plt.text(1.1, q1, f'Q1: {q1:.2f}')\n",
        "plt.text(1.1, q2, f'Q2: {q2:.2f}')\n",
        "plt.text(1.1, q3, f'Q3: {q3:.2f}')\n",
        "plt.show()"
      ]
    },
    {
      "cell_type": "code",
      "execution_count": null,
      "id": "e1b5fe07",
      "metadata": {
        "id": "e1b5fe07"
      },
      "outputs": [],
      "source": []
    }
  ],
  "metadata": {
    "kernelspec": {
      "display_name": "Python 3 (ipykernel)",
      "language": "python",
      "name": "python3"
    },
    "language_info": {
      "codemirror_mode": {
        "name": "ipython",
        "version": 3
      },
      "file_extension": ".py",
      "mimetype": "text/x-python",
      "name": "python",
      "nbconvert_exporter": "python",
      "pygments_lexer": "ipython3",
      "version": "3.11.2"
    },
    "colab": {
      "provenance": []
    }
  },
  "nbformat": 4,
  "nbformat_minor": 5
}