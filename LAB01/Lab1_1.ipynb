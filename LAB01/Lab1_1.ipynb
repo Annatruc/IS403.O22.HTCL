{
  "cells": [
    {
      "cell_type": "markdown",
      "id": "469bd987",
      "metadata": {
        "id": "469bd987"
      },
      "source": [
        "# Step 1: Import modules"
      ]
    },
    {
      "cell_type": "code",
      "execution_count": null,
      "id": "09c181a2",
      "metadata": {
        "id": "09c181a2"
      },
      "outputs": [],
      "source": [
        "import numpy as np\n",
        "import pandas as pd\n",
        "import math\n",
        "import statistics as st\n",
        "import matplotlib.pyplot as plt\n",
        "import seaborn as sns\n",
        "import plotly.express as px\n",
        "from scipy.stats import skew\n",
        "from scipy.stats import kurtosis"
      ]
    },
    {
      "cell_type": "markdown",
      "id": "79ed38a2",
      "metadata": {
        "id": "79ed38a2"
      },
      "source": [
        "# Step 2: Read the dataset"
      ]
    },
    {
      "cell_type": "code",
      "execution_count": null,
      "id": "9a6c6633",
      "metadata": {
        "colab": {
          "base_uri": "https://localhost:8080/",
          "height": 708
        },
        "id": "9a6c6633",
        "outputId": "c1d9c258-ec94-4719-81d8-8ec749a0be9a"
      },
      "outputs": [
        {
          "output_type": "execute_result",
          "data": {
            "text/plain": [
              "    Year     GDP\n",
              "0   2000   302.0\n",
              "1   2001   315.0\n",
              "2   2002   340.0\n",
              "3   2003   389.0\n",
              "4   2004   453.0\n",
              "5   2005   537.0\n",
              "6   2006   624.0\n",
              "7   2007   730.0\n",
              "8   2008  1065.0\n",
              "9   2009  1132.0\n",
              "10  2010  1234.0\n",
              "11  2011  1443.0\n",
              "12  2012  1655.0\n",
              "13  2013  1811.0\n",
              "14  2014  1952.0\n",
              "15  2015  2009.0\n",
              "16  2016  2115.0\n",
              "17  2017  2289.0\n",
              "18  2018  2490.0\n",
              "19  2019  2615.0\n",
              "20  2020  2679.0"
            ],
            "text/html": [
              "\n",
              "  <div id=\"df-e47f6161-5f6a-45a6-845f-26aaba77d9aa\" class=\"colab-df-container\">\n",
              "    <div>\n",
              "<style scoped>\n",
              "    .dataframe tbody tr th:only-of-type {\n",
              "        vertical-align: middle;\n",
              "    }\n",
              "\n",
              "    .dataframe tbody tr th {\n",
              "        vertical-align: top;\n",
              "    }\n",
              "\n",
              "    .dataframe thead th {\n",
              "        text-align: right;\n",
              "    }\n",
              "</style>\n",
              "<table border=\"1\" class=\"dataframe\">\n",
              "  <thead>\n",
              "    <tr style=\"text-align: right;\">\n",
              "      <th></th>\n",
              "      <th>Year</th>\n",
              "      <th>GDP</th>\n",
              "    </tr>\n",
              "  </thead>\n",
              "  <tbody>\n",
              "    <tr>\n",
              "      <th>0</th>\n",
              "      <td>2000</td>\n",
              "      <td>302.0</td>\n",
              "    </tr>\n",
              "    <tr>\n",
              "      <th>1</th>\n",
              "      <td>2001</td>\n",
              "      <td>315.0</td>\n",
              "    </tr>\n",
              "    <tr>\n",
              "      <th>2</th>\n",
              "      <td>2002</td>\n",
              "      <td>340.0</td>\n",
              "    </tr>\n",
              "    <tr>\n",
              "      <th>3</th>\n",
              "      <td>2003</td>\n",
              "      <td>389.0</td>\n",
              "    </tr>\n",
              "    <tr>\n",
              "      <th>4</th>\n",
              "      <td>2004</td>\n",
              "      <td>453.0</td>\n",
              "    </tr>\n",
              "    <tr>\n",
              "      <th>5</th>\n",
              "      <td>2005</td>\n",
              "      <td>537.0</td>\n",
              "    </tr>\n",
              "    <tr>\n",
              "      <th>6</th>\n",
              "      <td>2006</td>\n",
              "      <td>624.0</td>\n",
              "    </tr>\n",
              "    <tr>\n",
              "      <th>7</th>\n",
              "      <td>2007</td>\n",
              "      <td>730.0</td>\n",
              "    </tr>\n",
              "    <tr>\n",
              "      <th>8</th>\n",
              "      <td>2008</td>\n",
              "      <td>1065.0</td>\n",
              "    </tr>\n",
              "    <tr>\n",
              "      <th>9</th>\n",
              "      <td>2009</td>\n",
              "      <td>1132.0</td>\n",
              "    </tr>\n",
              "    <tr>\n",
              "      <th>10</th>\n",
              "      <td>2010</td>\n",
              "      <td>1234.0</td>\n",
              "    </tr>\n",
              "    <tr>\n",
              "      <th>11</th>\n",
              "      <td>2011</td>\n",
              "      <td>1443.0</td>\n",
              "    </tr>\n",
              "    <tr>\n",
              "      <th>12</th>\n",
              "      <td>2012</td>\n",
              "      <td>1655.0</td>\n",
              "    </tr>\n",
              "    <tr>\n",
              "      <th>13</th>\n",
              "      <td>2013</td>\n",
              "      <td>1811.0</td>\n",
              "    </tr>\n",
              "    <tr>\n",
              "      <th>14</th>\n",
              "      <td>2014</td>\n",
              "      <td>1952.0</td>\n",
              "    </tr>\n",
              "    <tr>\n",
              "      <th>15</th>\n",
              "      <td>2015</td>\n",
              "      <td>2009.0</td>\n",
              "    </tr>\n",
              "    <tr>\n",
              "      <th>16</th>\n",
              "      <td>2016</td>\n",
              "      <td>2115.0</td>\n",
              "    </tr>\n",
              "    <tr>\n",
              "      <th>17</th>\n",
              "      <td>2017</td>\n",
              "      <td>2289.0</td>\n",
              "    </tr>\n",
              "    <tr>\n",
              "      <th>18</th>\n",
              "      <td>2018</td>\n",
              "      <td>2490.0</td>\n",
              "    </tr>\n",
              "    <tr>\n",
              "      <th>19</th>\n",
              "      <td>2019</td>\n",
              "      <td>2615.0</td>\n",
              "    </tr>\n",
              "    <tr>\n",
              "      <th>20</th>\n",
              "      <td>2020</td>\n",
              "      <td>2679.0</td>\n",
              "    </tr>\n",
              "  </tbody>\n",
              "</table>\n",
              "</div>\n",
              "    <div class=\"colab-df-buttons\">\n",
              "\n",
              "  <div class=\"colab-df-container\">\n",
              "    <button class=\"colab-df-convert\" onclick=\"convertToInteractive('df-e47f6161-5f6a-45a6-845f-26aaba77d9aa')\"\n",
              "            title=\"Convert this dataframe to an interactive table.\"\n",
              "            style=\"display:none;\">\n",
              "\n",
              "  <svg xmlns=\"http://www.w3.org/2000/svg\" height=\"24px\" viewBox=\"0 -960 960 960\">\n",
              "    <path d=\"M120-120v-720h720v720H120Zm60-500h600v-160H180v160Zm220 220h160v-160H400v160Zm0 220h160v-160H400v160ZM180-400h160v-160H180v160Zm440 0h160v-160H620v160ZM180-180h160v-160H180v160Zm440 0h160v-160H620v160Z\"/>\n",
              "  </svg>\n",
              "    </button>\n",
              "\n",
              "  <style>\n",
              "    .colab-df-container {\n",
              "      display:flex;\n",
              "      gap: 12px;\n",
              "    }\n",
              "\n",
              "    .colab-df-convert {\n",
              "      background-color: #E8F0FE;\n",
              "      border: none;\n",
              "      border-radius: 50%;\n",
              "      cursor: pointer;\n",
              "      display: none;\n",
              "      fill: #1967D2;\n",
              "      height: 32px;\n",
              "      padding: 0 0 0 0;\n",
              "      width: 32px;\n",
              "    }\n",
              "\n",
              "    .colab-df-convert:hover {\n",
              "      background-color: #E2EBFA;\n",
              "      box-shadow: 0px 1px 2px rgba(60, 64, 67, 0.3), 0px 1px 3px 1px rgba(60, 64, 67, 0.15);\n",
              "      fill: #174EA6;\n",
              "    }\n",
              "\n",
              "    .colab-df-buttons div {\n",
              "      margin-bottom: 4px;\n",
              "    }\n",
              "\n",
              "    [theme=dark] .colab-df-convert {\n",
              "      background-color: #3B4455;\n",
              "      fill: #D2E3FC;\n",
              "    }\n",
              "\n",
              "    [theme=dark] .colab-df-convert:hover {\n",
              "      background-color: #434B5C;\n",
              "      box-shadow: 0px 1px 3px 1px rgba(0, 0, 0, 0.15);\n",
              "      filter: drop-shadow(0px 1px 2px rgba(0, 0, 0, 0.3));\n",
              "      fill: #FFFFFF;\n",
              "    }\n",
              "  </style>\n",
              "\n",
              "    <script>\n",
              "      const buttonEl =\n",
              "        document.querySelector('#df-e47f6161-5f6a-45a6-845f-26aaba77d9aa button.colab-df-convert');\n",
              "      buttonEl.style.display =\n",
              "        google.colab.kernel.accessAllowed ? 'block' : 'none';\n",
              "\n",
              "      async function convertToInteractive(key) {\n",
              "        const element = document.querySelector('#df-e47f6161-5f6a-45a6-845f-26aaba77d9aa');\n",
              "        const dataTable =\n",
              "          await google.colab.kernel.invokeFunction('convertToInteractive',\n",
              "                                                    [key], {});\n",
              "        if (!dataTable) return;\n",
              "\n",
              "        const docLinkHtml = 'Like what you see? Visit the ' +\n",
              "          '<a target=\"_blank\" href=https://colab.research.google.com/notebooks/data_table.ipynb>data table notebook</a>'\n",
              "          + ' to learn more about interactive tables.';\n",
              "        element.innerHTML = '';\n",
              "        dataTable['output_type'] = 'display_data';\n",
              "        await google.colab.output.renderOutput(dataTable, element);\n",
              "        const docLink = document.createElement('div');\n",
              "        docLink.innerHTML = docLinkHtml;\n",
              "        element.appendChild(docLink);\n",
              "      }\n",
              "    </script>\n",
              "  </div>\n",
              "\n",
              "\n",
              "<div id=\"df-1b21a4e8-baf1-4e34-8390-0c98a64fb7ab\">\n",
              "  <button class=\"colab-df-quickchart\" onclick=\"quickchart('df-1b21a4e8-baf1-4e34-8390-0c98a64fb7ab')\"\n",
              "            title=\"Suggest charts\"\n",
              "            style=\"display:none;\">\n",
              "\n",
              "<svg xmlns=\"http://www.w3.org/2000/svg\" height=\"24px\"viewBox=\"0 0 24 24\"\n",
              "     width=\"24px\">\n",
              "    <g>\n",
              "        <path d=\"M19 3H5c-1.1 0-2 .9-2 2v14c0 1.1.9 2 2 2h14c1.1 0 2-.9 2-2V5c0-1.1-.9-2-2-2zM9 17H7v-7h2v7zm4 0h-2V7h2v10zm4 0h-2v-4h2v4z\"/>\n",
              "    </g>\n",
              "</svg>\n",
              "  </button>\n",
              "\n",
              "<style>\n",
              "  .colab-df-quickchart {\n",
              "      --bg-color: #E8F0FE;\n",
              "      --fill-color: #1967D2;\n",
              "      --hover-bg-color: #E2EBFA;\n",
              "      --hover-fill-color: #174EA6;\n",
              "      --disabled-fill-color: #AAA;\n",
              "      --disabled-bg-color: #DDD;\n",
              "  }\n",
              "\n",
              "  [theme=dark] .colab-df-quickchart {\n",
              "      --bg-color: #3B4455;\n",
              "      --fill-color: #D2E3FC;\n",
              "      --hover-bg-color: #434B5C;\n",
              "      --hover-fill-color: #FFFFFF;\n",
              "      --disabled-bg-color: #3B4455;\n",
              "      --disabled-fill-color: #666;\n",
              "  }\n",
              "\n",
              "  .colab-df-quickchart {\n",
              "    background-color: var(--bg-color);\n",
              "    border: none;\n",
              "    border-radius: 50%;\n",
              "    cursor: pointer;\n",
              "    display: none;\n",
              "    fill: var(--fill-color);\n",
              "    height: 32px;\n",
              "    padding: 0;\n",
              "    width: 32px;\n",
              "  }\n",
              "\n",
              "  .colab-df-quickchart:hover {\n",
              "    background-color: var(--hover-bg-color);\n",
              "    box-shadow: 0 1px 2px rgba(60, 64, 67, 0.3), 0 1px 3px 1px rgba(60, 64, 67, 0.15);\n",
              "    fill: var(--button-hover-fill-color);\n",
              "  }\n",
              "\n",
              "  .colab-df-quickchart-complete:disabled,\n",
              "  .colab-df-quickchart-complete:disabled:hover {\n",
              "    background-color: var(--disabled-bg-color);\n",
              "    fill: var(--disabled-fill-color);\n",
              "    box-shadow: none;\n",
              "  }\n",
              "\n",
              "  .colab-df-spinner {\n",
              "    border: 2px solid var(--fill-color);\n",
              "    border-color: transparent;\n",
              "    border-bottom-color: var(--fill-color);\n",
              "    animation:\n",
              "      spin 1s steps(1) infinite;\n",
              "  }\n",
              "\n",
              "  @keyframes spin {\n",
              "    0% {\n",
              "      border-color: transparent;\n",
              "      border-bottom-color: var(--fill-color);\n",
              "      border-left-color: var(--fill-color);\n",
              "    }\n",
              "    20% {\n",
              "      border-color: transparent;\n",
              "      border-left-color: var(--fill-color);\n",
              "      border-top-color: var(--fill-color);\n",
              "    }\n",
              "    30% {\n",
              "      border-color: transparent;\n",
              "      border-left-color: var(--fill-color);\n",
              "      border-top-color: var(--fill-color);\n",
              "      border-right-color: var(--fill-color);\n",
              "    }\n",
              "    40% {\n",
              "      border-color: transparent;\n",
              "      border-right-color: var(--fill-color);\n",
              "      border-top-color: var(--fill-color);\n",
              "    }\n",
              "    60% {\n",
              "      border-color: transparent;\n",
              "      border-right-color: var(--fill-color);\n",
              "    }\n",
              "    80% {\n",
              "      border-color: transparent;\n",
              "      border-right-color: var(--fill-color);\n",
              "      border-bottom-color: var(--fill-color);\n",
              "    }\n",
              "    90% {\n",
              "      border-color: transparent;\n",
              "      border-bottom-color: var(--fill-color);\n",
              "    }\n",
              "  }\n",
              "</style>\n",
              "\n",
              "  <script>\n",
              "    async function quickchart(key) {\n",
              "      const quickchartButtonEl =\n",
              "        document.querySelector('#' + key + ' button');\n",
              "      quickchartButtonEl.disabled = true;  // To prevent multiple clicks.\n",
              "      quickchartButtonEl.classList.add('colab-df-spinner');\n",
              "      try {\n",
              "        const charts = await google.colab.kernel.invokeFunction(\n",
              "            'suggestCharts', [key], {});\n",
              "      } catch (error) {\n",
              "        console.error('Error during call to suggestCharts:', error);\n",
              "      }\n",
              "      quickchartButtonEl.classList.remove('colab-df-spinner');\n",
              "      quickchartButtonEl.classList.add('colab-df-quickchart-complete');\n",
              "    }\n",
              "    (() => {\n",
              "      let quickchartButtonEl =\n",
              "        document.querySelector('#df-1b21a4e8-baf1-4e34-8390-0c98a64fb7ab button');\n",
              "      quickchartButtonEl.style.display =\n",
              "        google.colab.kernel.accessAllowed ? 'block' : 'none';\n",
              "    })();\n",
              "  </script>\n",
              "</div>\n",
              "    </div>\n",
              "  </div>\n"
            ],
            "application/vnd.google.colaboratory.intrinsic+json": {
              "type": "dataframe",
              "variable_name": "gdp_lab",
              "summary": "{\n  \"name\": \"gdp_lab\",\n  \"rows\": 21,\n  \"fields\": [\n    {\n      \"column\": \"Year\",\n      \"properties\": {\n        \"dtype\": \"number\",\n        \"std\": 6,\n        \"min\": 2000,\n        \"max\": 2020,\n        \"num_unique_values\": 21,\n        \"samples\": [\n          2000,\n          2017,\n          2015\n        ],\n        \"semantic_type\": \"\",\n        \"description\": \"\"\n      }\n    },\n    {\n      \"column\": \"GDP\",\n      \"properties\": {\n        \"dtype\": \"number\",\n        \"std\": 832.9138182137624,\n        \"min\": 302.0,\n        \"max\": 2679.0,\n        \"num_unique_values\": 21,\n        \"samples\": [\n          302.0,\n          2289.0,\n          2009.0\n        ],\n        \"semantic_type\": \"\",\n        \"description\": \"\"\n      }\n    }\n  ]\n}"
            }
          },
          "metadata": {},
          "execution_count": 12
        }
      ],
      "source": [
        "gdp_lab=pd.read_csv(\"GDP_2000_2022.csv\")\n",
        "gdp_lab"
      ]
    },
    {
      "cell_type": "markdown",
      "id": "491af8d9",
      "metadata": {
        "id": "491af8d9"
      },
      "source": [
        "# Step 3: Rename (Optional)"
      ]
    },
    {
      "cell_type": "code",
      "execution_count": null,
      "id": "ecd4e420",
      "metadata": {
        "id": "ecd4e420"
      },
      "outputs": [],
      "source": [
        "#For convenience in calling the value, give the column section a new name.\n",
        "gdp=gdp_lab.GDP"
      ]
    },
    {
      "cell_type": "markdown",
      "id": "059062da",
      "metadata": {
        "id": "059062da"
      },
      "source": [
        "# Start doing the statistics"
      ]
    },
    {
      "cell_type": "markdown",
      "id": "c2e5ad60",
      "metadata": {
        "id": "c2e5ad60"
      },
      "source": [
        "## 1. Finding mean of GDP"
      ]
    },
    {
      "cell_type": "markdown",
      "id": "649f2fdc",
      "metadata": {
        "id": "649f2fdc"
      },
      "source": [
        "##### Average/Mean formula:\n",
        "## $\\bar{x}=\\frac{\\sum_{i=1}^{n}x_{i}}{n}$"
      ]
    },
    {
      "cell_type": "code",
      "execution_count": null,
      "id": "efa53a95",
      "metadata": {
        "colab": {
          "base_uri": "https://localhost:8080/"
        },
        "id": "efa53a95",
        "outputId": "f3fc23f5-c809-439b-d0fe-a012c20de649"
      },
      "outputs": [
        {
          "output_type": "execute_result",
          "data": {
            "text/plain": [
              "1341.857142857143"
            ]
          },
          "metadata": {},
          "execution_count": 5
        }
      ],
      "source": [
        "#using the ordinary method (by formula)\n",
        "mean_or=sum(gdp)/len(gdp)\n",
        "mean_or"
      ]
    },
    {
      "cell_type": "code",
      "execution_count": null,
      "id": "76ff54a0",
      "metadata": {
        "id": "76ff54a0",
        "colab": {
          "base_uri": "https://localhost:8080/"
        },
        "outputId": "c8092b83-bc66-4b6d-c8b7-faa3e967735a"
      },
      "outputs": [
        {
          "output_type": "execute_result",
          "data": {
            "text/plain": [
              "1341.857142857143"
            ]
          },
          "metadata": {},
          "execution_count": 6
        }
      ],
      "source": [
        "#using statistic library\n",
        "st.mean(gdp)"
      ]
    },
    {
      "cell_type": "markdown",
      "id": "f2ff961e",
      "metadata": {
        "id": "f2ff961e"
      },
      "source": [
        "## 2. Finding median of GDP"
      ]
    },
    {
      "cell_type": "markdown",
      "id": "24650ce6",
      "metadata": {
        "id": "24650ce6"
      },
      "source": [
        "#### To find the median:\n",
        "<ol>\n",
        "<li>Arrange the data points from smallest to largest.</li>\n",
        "<li>If the number of data points is odd, the median is the middle data point in the list.</li>\n",
        "<li>If the number of data points is even, the median is the average of the two middle data points in the list.</li>\n",
        "</ol>"
      ]
    },
    {
      "cell_type": "code",
      "execution_count": null,
      "id": "2a8a7e68",
      "metadata": {
        "id": "2a8a7e68",
        "colab": {
          "base_uri": "https://localhost:8080/"
        },
        "outputId": "de2c01e3-6e14-4c37-f8b3-f27f4efcabfd"
      },
      "outputs": [
        {
          "output_type": "execute_result",
          "data": {
            "text/plain": [
              "1234.0"
            ]
          },
          "metadata": {},
          "execution_count": 7
        }
      ],
      "source": [
        "#finding if the number of data points is odd or even\n",
        "n=len(gdp)\n",
        "\n",
        "#arrange the data points from smallest to largest - using bubble sort\n",
        "for i in range(n - 1):\n",
        "    for j in range(0, n - i - 1):\n",
        "        if gdp[j] > gdp[j + 1]:\n",
        "            #swaping position\n",
        "            gdp[j], gdp[j + 1] = gdp[j + 1], gdp[j]\n",
        "\n",
        "#The middle index is also the median\n",
        "middle_index = n // 2\n",
        "median_or = gdp[middle_index]\n",
        "median_or"
      ]
    },
    {
      "cell_type": "code",
      "execution_count": null,
      "id": "0debcb16",
      "metadata": {
        "id": "0debcb16"
      },
      "outputs": [],
      "source": [
        "#using statistic library\n",
        "st.median(gdp)"
      ]
    },
    {
      "cell_type": "markdown",
      "id": "b5068d35",
      "metadata": {
        "id": "b5068d35"
      },
      "source": [
        "## 3. Finding variance"
      ]
    },
    {
      "cell_type": "markdown",
      "id": "76d240ee",
      "metadata": {
        "id": "76d240ee"
      },
      "source": [
        "#### Variance formula:\n",
        "## $s^{2}=\\frac {\\sum_{i=1}^{n}{(x_{i}-\\bar{x})}^{2}}{n-1} $"
      ]
    },
    {
      "cell_type": "code",
      "execution_count": null,
      "id": "b05a888a",
      "metadata": {
        "id": "b05a888a",
        "colab": {
          "base_uri": "https://localhost:8080/"
        },
        "outputId": "8ece00d1-df94-41c1-f38f-86e6adf4cf18"
      },
      "outputs": [
        {
          "output_type": "execute_result",
          "data": {
            "text/plain": [
              "693745.0"
            ]
          },
          "metadata": {},
          "execution_count": 8
        }
      ],
      "source": [
        "#using ordinary method (formula)\n",
        "var_or = sum((x - mean_or) ** 2 for x in gdp) // (n-1)\n",
        "var_or"
      ]
    },
    {
      "cell_type": "code",
      "execution_count": null,
      "id": "c2ab4cd7",
      "metadata": {
        "id": "c2ab4cd7",
        "colab": {
          "base_uri": "https://localhost:8080/"
        },
        "outputId": "4a4c13c5-328b-4d79-f317-30c2c58bb604"
      },
      "outputs": [
        {
          "output_type": "execute_result",
          "data": {
            "text/plain": [
              "693745.4285714285"
            ]
          },
          "metadata": {},
          "execution_count": 9
        }
      ],
      "source": [
        "var=st.variance(gdp)\n",
        "var"
      ]
    },
    {
      "cell_type": "markdown",
      "id": "7f97c585",
      "metadata": {
        "id": "7f97c585"
      },
      "source": [
        "## 4. Finding standard deviation"
      ]
    },
    {
      "cell_type": "markdown",
      "id": "2b5f35e9",
      "metadata": {
        "id": "2b5f35e9"
      },
      "source": [
        "#### Standard deviation formula:\n",
        "## $s=\\sqrt{s^{2}}=\\sqrt{\\frac {\\sum_{i=1}^{n}{(x_{i}-\\bar{x})}^{2}}{n-1}}$"
      ]
    },
    {
      "cell_type": "code",
      "execution_count": null,
      "id": "cf19d07e",
      "metadata": {
        "id": "cf19d07e",
        "colab": {
          "base_uri": "https://localhost:8080/"
        },
        "outputId": "33c61db0-72e0-4fc2-b77a-2760936cf8d8"
      },
      "outputs": [
        {
          "output_type": "execute_result",
          "data": {
            "text/plain": [
              "832.9138182137624"
            ]
          },
          "metadata": {},
          "execution_count": 10
        }
      ],
      "source": [
        "#using basic math library\n",
        "stdev_or=math.sqrt(var)\n",
        "stdev_or"
      ]
    },
    {
      "cell_type": "code",
      "execution_count": null,
      "id": "a63bc034",
      "metadata": {
        "id": "a63bc034"
      },
      "outputs": [],
      "source": [
        "#using tool\n",
        "st.stdev(gdp)"
      ]
    },
    {
      "cell_type": "markdown",
      "id": "ad5396bf",
      "metadata": {
        "id": "ad5396bf"
      },
      "source": [
        "## 5. Finding mode"
      ]
    },
    {
      "cell_type": "code",
      "execution_count": null,
      "id": "d0008d73",
      "metadata": {
        "id": "d0008d73"
      },
      "outputs": [],
      "source": [
        "#using the ordinary method by coding:\n",
        "\n",
        "def find_mode(gdp):\n",
        "    frequency = {}\n",
        "\n",
        "    # Count the frequency of each number appearing\n",
        "    for num in gdp:\n",
        "        if num in frequency:\n",
        "            frequency[num] += 1\n",
        "        else:\n",
        "            frequency[num] = 1\n",
        "\n",
        "    # Find the highest frequency of occurrence\n",
        "    max_frequency = max(frequency.values())\n",
        "\n",
        "    # Create a list containing modes\n",
        "    modes = []\n",
        "    for num, freq in frequency.items():\n",
        "        if freq == max_frequency:\n",
        "            modes.append(num)\n",
        "\n",
        "    return modes\n",
        "\n",
        "mode_or = find_mode(gdp)\n",
        "mode_or"
      ]
    },
    {
      "cell_type": "code",
      "execution_count": null,
      "id": "9a0a73c6",
      "metadata": {
        "id": "9a0a73c6"
      },
      "outputs": [],
      "source": [
        "#using library:\n",
        "st.mode(gdp)"
      ]
    },
    {
      "cell_type": "markdown",
      "id": "234bf78a",
      "metadata": {
        "id": "234bf78a"
      },
      "source": [
        "> Explanation: Because there is no duplicate value, the algorithm can't find the mode, so it will return the first value of the dataset (with statistic library) or return all the dataset (in the ordinary way)."
      ]
    },
    {
      "cell_type": "markdown",
      "id": "07d637c5",
      "metadata": {
        "id": "07d637c5"
      },
      "source": [
        "## 6. Finding quantiles"
      ]
    },
    {
      "cell_type": "code",
      "execution_count": null,
      "id": "eaeda783",
      "metadata": {
        "id": "eaeda783"
      },
      "outputs": [],
      "source": [
        "q1 = np.quantile(gdp, 0.25)\n",
        "q2 = np.quantile(gdp, 0.5)\n",
        "q3 = np.quantile(gdp, 0.75)\n",
        "print(q1)\n",
        "print(q2)\n",
        "print(q3)"
      ]
    },
    {
      "cell_type": "markdown",
      "id": "b85b3095",
      "metadata": {
        "id": "b85b3095"
      },
      "source": [
        "## 7. Finding skewness"
      ]
    },
    {
      "cell_type": "markdown",
      "id": "935bca27",
      "metadata": {
        "id": "935bca27"
      },
      "source": [
        "### Skewness formula:\n",
        "## $skew[x]={\\frac{n}{(n-1)(n-2)}}{\\sum_{i=1}^{n}({\\frac{x_{i}-\\bar{x}}{s}})^{3}}$"
      ]
    },
    {
      "cell_type": "code",
      "execution_count": null,
      "id": "ce3fbf56",
      "metadata": {
        "id": "ce3fbf56",
        "colab": {
          "base_uri": "https://localhost:8080/"
        },
        "outputId": "93f04abe-d97a-4aac-ceb2-3287941c023c"
      },
      "outputs": [
        {
          "output_type": "execute_result",
          "data": {
            "text/plain": [
              "0.19190526429277793"
            ]
          },
          "metadata": {},
          "execution_count": 13
        }
      ],
      "source": [
        "#using the formula:\n",
        "skew_or=(n / ((n - 1) * (n - 2))) * sum(((x - mean_or) / stdev_or) ** 3 for x in gdp)\n",
        "skew_or"
      ]
    },
    {
      "cell_type": "code",
      "execution_count": null,
      "id": "7ef3c740",
      "metadata": {
        "id": "7ef3c740",
        "colab": {
          "base_uri": "https://localhost:8080/"
        },
        "outputId": "a083cfb9-4ffd-453b-9a40-0292f20f2e4e"
      },
      "outputs": [
        {
          "output_type": "execute_result",
          "data": {
            "text/plain": [
              "0.1919052642927779"
            ]
          },
          "metadata": {},
          "execution_count": 14
        }
      ],
      "source": [
        "#using library\n",
        "skew(gdp,bias=False)"
      ]
    },
    {
      "cell_type": "markdown",
      "id": "ffd8fd4c",
      "metadata": {
        "id": "ffd8fd4c"
      },
      "source": [
        "## 8. Finding kurtosis"
      ]
    },
    {
      "cell_type": "markdown",
      "id": "c1565a38",
      "metadata": {
        "id": "c1565a38"
      },
      "source": [
        "### Kurtosis formula:\n",
        "## $kurtosis={\\frac{n(n+1)}{(n-1)(n-2)(n-3)}}{\\frac{\\sum_{i=1}^{n}(x_{i}-\\bar{x})^{4}}{{s}^{4}}}$"
      ]
    },
    {
      "cell_type": "code",
      "execution_count": null,
      "id": "37fed45c",
      "metadata": {
        "id": "37fed45c"
      },
      "outputs": [],
      "source": [
        "kurt_or = kurt = (n * (n + 1) / ((n - 1) * (n - 2) * (n - 3))) * sum(((x - mean_or) / stdev_or) ** 4 for x in gdp) - 3 * ((n - 1) ** 2) / ((n - 2) * (n - 3))\n",
        "kurt_or"
      ]
    },
    {
      "cell_type": "code",
      "execution_count": null,
      "id": "a8b18ecc",
      "metadata": {
        "id": "a8b18ecc"
      },
      "outputs": [],
      "source": [
        "kurtosis(gdp)"
      ]
    },
    {
      "cell_type": "code",
      "execution_count": null,
      "id": "64250def",
      "metadata": {
        "id": "64250def"
      },
      "outputs": [],
      "source": [
        "kurtosis(gdp,bias=False)"
      ]
    },
    {
      "cell_type": "markdown",
      "id": "7a2f913a",
      "metadata": {
        "id": "7a2f913a"
      },
      "source": [
        "# Step 4: Visualizing the data"
      ]
    },
    {
      "cell_type": "markdown",
      "id": "02628394",
      "metadata": {
        "id": "02628394"
      },
      "source": [
        "## 1. Boxplot"
      ]
    },
    {
      "cell_type": "code",
      "execution_count": null,
      "id": "3bcfd057",
      "metadata": {
        "colab": {
          "base_uri": "https://localhost:8080/",
          "height": 430
        },
        "id": "3bcfd057",
        "outputId": "184c28fa-33a0-46f0-bd81-08ab7e40056e"
      },
      "outputs": [
        {
          "output_type": "display_data",
          "data": {
            "text/plain": [
              "<Figure size 640x480 with 1 Axes>"
            ],
            "image/png": "[encoded data removed]"
          },
          "metadata": {}
        }
      ],
      "source": [
        "#using plt lib\n",
        "outlier_color = dict(markerfacecolor='red')\n",
        "plt.boxplot(gdp_lab.GDP, flierprops=outlier_color)\n",
        "plt.grid(True, axis='y', color='grey', linestyle='-', linewidth=0.5)\n",
        "plt.text(1.1, q1, f'Q1: {q1:.2f}')\n",
        "plt.text(1.1, q2, f'Q2: {q2:.2f}')\n",
        "plt.text(1.1, q3, f'Q3: {q3:.2f}')\n",
        "plt.show()"
      ]
    },
    {
      "cell_type": "code",
      "execution_count": null,
      "id": "83a40aad",
      "metadata": {
        "colab": {
          "base_uri": "https://localhost:8080/",
          "height": 345
        },
        "id": "83a40aad",
        "outputId": "f535f290-af11-4fac-9192-9a9a7a35052b"
      },
      "outputs": [
        {
          "output_type": "display_data",
          "data": {
            "text/plain": [
              "<Figure size 640x480 with 0 Axes>"
            ]
          },
          "metadata": {}
        },
        {
          "output_type": "display_data",
          "data": {
            "text/plain": [
              "<Figure size 600x300 with 1 Axes>"
            ],
            "image/png": "[encoded data removed]"
          },
          "metadata": {}
        }
      ],
      "source": [
        "#using seaborn\n",
        "sns.set(style=\"whitegrid\")\n",
        "sns.despine(top=True,\n",
        "           right=True,\n",
        "           left=True,\n",
        "           bottom=False)\n",
        "fig, ax=plt.subplots(figsize=(6,3))\n",
        "sns.boxplot(gdp_lab['GDP'],color=\"lavender\",width=0.5)\n",
        "plt.title(\"Boxplot of GDP\",fontsize=14)\n",
        "plt.xlabel(\"GDP\")\n",
        "plt.show()"
      ]
    },
    {
      "cell_type": "markdown",
      "id": "8d127ce4",
      "metadata": {
        "id": "8d127ce4"
      },
      "source": [
        "## 2. Histogram"
      ]
    },
    {
      "cell_type": "code",
      "execution_count": null,
      "id": "b6bb4da3",
      "metadata": {
        "colab": {
          "base_uri": "https://localhost:8080/",
          "height": 434
        },
        "id": "b6bb4da3",
        "outputId": "0a33a03b-243e-43bc-d25c-c6a0f7e5673f"
      },
      "outputs": [
        {
          "output_type": "display_data",
          "data": {
            "text/plain": [
              "<Figure size 640x480 with 1 Axes>"
            ],
            "image/png": "[encoded data removed]"
          },
          "metadata": {}
        }
      ],
      "source": [
        "plt.hist(gdp_lab.GDP)\n",
        "plt.show()"
      ]
    }
  ],
  "metadata": {
    "kernelspec": {
      "display_name": "Python 3 (ipykernel)",
      "language": "python",
      "name": "python3"
    },
    "language_info": {
      "codemirror_mode": {
        "name": "ipython",
        "version": 3
      },
      "file_extension": ".py",
      "mimetype": "text/x-python",
      "name": "python",
      "nbconvert_exporter": "python",
      "pygments_lexer": "ipython3",
      "version": "3.11.2"
    },
    "colab": {
      "provenance": []
    }
  },
  "nbformat": 4,
  "nbformat_minor": 5
}