{
  "cells": [
    {
      "cell_type": "markdown",
      "id": "ac29a6e1",
      "metadata": {
        "id": "ac29a6e1"
      },
      "source": [
        "# Step 1: Import modules"
      ]
    },
    {
      "cell_type": "code",
      "execution_count": null,
      "id": "fecd6624",
      "metadata": {
        "id": "fecd6624"
      },
      "outputs": [],
      "source": [
        "import numpy as np\n",
        "import pandas as pd\n",
        "import statistics as st\n",
        "import matplotlib.pyplot as plt"
      ]
    },
    {
      "cell_type": "markdown",
      "id": "df404f9e",
      "metadata": {
        "id": "df404f9e"
      },
      "source": [
        "# Step 2: Read the data set"
      ]
    },
    {
      "cell_type": "code",
      "execution_count": null,
      "id": "46fcff57",
      "metadata": {
        "id": "46fcff57",
        "outputId": "c09d4127-ce2a-41a2-817b-4ad4422863be"
      },
      "outputs": [
        {
          "data": {
            "text/html": [
              "<div>\n",
              "<style scoped>\n",
              "    .dataframe tbody tr th:only-of-type {\n",
              "        vertical-align: middle;\n",
              "    }\n",
              "\n",
              "    .dataframe tbody tr th {\n",
              "        vertical-align: top;\n",
              "    }\n",
              "\n",
              "    .dataframe thead th {\n",
              "        text-align: right;\n",
              "    }\n",
              "</style>\n",
              "<table border=\"1\" class=\"dataframe\">\n",
              "  <thead>\n",
              "    <tr style=\"text-align: right;\">\n",
              "      <th></th>\n",
              "      <th>House Age</th>\n",
              "      <th>Square Feet</th>\n",
              "      <th>Market Value</th>\n",
              "    </tr>\n",
              "  </thead>\n",
              "  <tbody>\n",
              "    <tr>\n",
              "      <th>0</th>\n",
              "      <td>33</td>\n",
              "      <td>1,812</td>\n",
              "      <td>$90,000.00</td>\n",
              "    </tr>\n",
              "    <tr>\n",
              "      <th>1</th>\n",
              "      <td>32</td>\n",
              "      <td>1,914</td>\n",
              "      <td>$104,400.00</td>\n",
              "    </tr>\n",
              "    <tr>\n",
              "      <th>2</th>\n",
              "      <td>32</td>\n",
              "      <td>1,842</td>\n",
              "      <td>$93,300.00</td>\n",
              "    </tr>\n",
              "    <tr>\n",
              "      <th>3</th>\n",
              "      <td>33</td>\n",
              "      <td>1,812</td>\n",
              "      <td>$91,000.00</td>\n",
              "    </tr>\n",
              "    <tr>\n",
              "      <th>4</th>\n",
              "      <td>32</td>\n",
              "      <td>1,836</td>\n",
              "      <td>$101,900.00</td>\n",
              "    </tr>\n",
              "  </tbody>\n",
              "</table>\n",
              "</div>"
            ],
            "text/plain": [
              "   House Age Square Feet  Market Value\n",
              "0         33       1,812   $90,000.00 \n",
              "1         32       1,914  $104,400.00 \n",
              "2         32       1,842   $93,300.00 \n",
              "3         33       1,812   $91,000.00 \n",
              "4         32       1,836  $101,900.00 "
            ]
          },
          "execution_count": 8,
          "metadata": {},
          "output_type": "execute_result"
        }
      ],
      "source": [
        "too = pd.read_csv(\"Home_Market_Value.csv\")\n",
        "too.head()"
      ]
    },
    {
      "cell_type": "markdown",
      "id": "992f5981",
      "metadata": {
        "id": "992f5981"
      },
      "source": [
        "# Step 3: Rename (Optional)"
      ]
    },
    {
      "cell_type": "code",
      "execution_count": null,
      "id": "a6167b48",
      "metadata": {
        "id": "a6167b48"
      },
      "outputs": [],
      "source": [
        "too['Square Feet'] = too['Square Feet'].replace('[,]', '', regex=True).astype(int)\n",
        "too['Market Value'] = too['Market Value'].replace('[$,]', '', regex=True).astype(float)\n",
        "sf=too['Square Feet']\n",
        "mv=too['Market Value']\n",
        "ha=too['House Age']"
      ]
    },
    {
      "cell_type": "markdown",
      "id": "9c10a2a5",
      "metadata": {
        "id": "9c10a2a5"
      },
      "source": [
        "# Start doing the statistics"
      ]
    },
    {
      "cell_type": "markdown",
      "id": "ec387aab",
      "metadata": {
        "id": "ec387aab"
      },
      "source": [
        "## Step 1: Calculate the median of each column of values in the dataset"
      ]
    },
    {
      "cell_type": "markdown",
      "id": "b7c803d3",
      "metadata": {
        "id": "b7c803d3"
      },
      "source": [
        "> The second quartile point (Q2) is equivalent to the median value of the data set, located at $\\frac{(n + 1)}{2}$. So it mean Q2 is also the median. Here we test the median of each column."
      ]
    },
    {
      "cell_type": "code",
      "execution_count": null,
      "id": "8117a861",
      "metadata": {
        "id": "8117a861",
        "outputId": "c043d962-620f-49c9-a27f-43057a07fda4"
      },
      "outputs": [
        {
          "data": {
            "text/plain": [
              "28.0"
            ]
          },
          "execution_count": 10,
          "metadata": {},
          "output_type": "execute_result"
        }
      ],
      "source": [
        "st.median(ha)"
      ]
    },
    {
      "cell_type": "code",
      "execution_count": null,
      "id": "b9e6c89a",
      "metadata": {
        "id": "b9e6c89a",
        "outputId": "48f1d8f7-2182-478e-b51b-8ee660efeb69"
      },
      "outputs": [
        {
          "data": {
            "text/plain": [
              "1666.0"
            ]
          },
          "execution_count": 11,
          "metadata": {},
          "output_type": "execute_result"
        }
      ],
      "source": [
        "st.median(sf)"
      ]
    },
    {
      "cell_type": "code",
      "execution_count": null,
      "id": "683fb185",
      "metadata": {
        "id": "683fb185",
        "outputId": "c89a1d3f-1b6d-483e-c226-d7cafefba3bc"
      },
      "outputs": [
        {
          "data": {
            "text/plain": [
              "88900.0"
            ]
          },
          "execution_count": 12,
          "metadata": {},
          "output_type": "execute_result"
        }
      ],
      "source": [
        "st.median(mv)"
      ]
    },
    {
      "cell_type": "markdown",
      "id": "8a8076f7",
      "metadata": {
        "id": "8a8076f7"
      },
      "source": [
        "## Step 2: Finding outliers of House Age column through IQR"
      ]
    },
    {
      "cell_type": "code",
      "execution_count": null,
      "id": "49591d20",
      "metadata": {
        "id": "49591d20",
        "outputId": "d0ca22da-7ad2-4ad9-b705-389afa907a1c"
      },
      "outputs": [
        {
          "data": {
            "text/html": [
              "<div>\n",
              "<style scoped>\n",
              "    .dataframe tbody tr th:only-of-type {\n",
              "        vertical-align: middle;\n",
              "    }\n",
              "\n",
              "    .dataframe tbody tr th {\n",
              "        vertical-align: top;\n",
              "    }\n",
              "\n",
              "    .dataframe thead th {\n",
              "        text-align: right;\n",
              "    }\n",
              "</style>\n",
              "<table border=\"1\" class=\"dataframe\">\n",
              "  <thead>\n",
              "    <tr style=\"text-align: right;\">\n",
              "      <th></th>\n",
              "      <th>House Age</th>\n",
              "      <th>Square Feet</th>\n",
              "      <th>Market Value</th>\n",
              "    </tr>\n",
              "  </thead>\n",
              "  <tbody>\n",
              "  </tbody>\n",
              "</table>\n",
              "</div>"
            ],
            "text/plain": [
              "Empty DataFrame\n",
              "Columns: [House Age, Square Feet, Market Value]\n",
              "Index: []"
            ]
          },
          "execution_count": 13,
          "metadata": {},
          "output_type": "execute_result"
        }
      ],
      "source": [
        "q1_ha = ha.quantile(0.25)\n",
        "q2_ha = ha.quantile(0.5)\n",
        "q3_ha = ha.quantile(0.75)\n",
        "iqr_ha = q3_ha - q1_ha\n",
        "lower_bound_ha = q1_ha - 1.5 * iqr_ha\n",
        "upper_bound_ha = q3_ha + 1.5 * iqr_ha\n",
        "#using boolean to choose column in dataframe \"Too\"\n",
        "outliers_ha = too[(ha < lower_bound_ha) | (ha > upper_bound_ha)]\n",
        "outliers_ha"
      ]
    },
    {
      "cell_type": "code",
      "execution_count": null,
      "id": "d2a802a7",
      "metadata": {
        "id": "d2a802a7",
        "outputId": "94d95751-632c-4f4e-be50-fd0bedca391d"
      },
      "outputs": [
        {
          "name": "stdout",
          "output_type": "stream",
          "text": [
            "27.75\n",
            "28.0\n",
            "32.0\n"
          ]
        }
      ],
      "source": [
        "print(q1_ha)\n",
        "print(q2_ha)\n",
        "print(q3_ha)"
      ]
    },
    {
      "cell_type": "markdown",
      "id": "8fdcbbdd",
      "metadata": {
        "id": "8fdcbbdd"
      },
      "source": [
        "## Step 3: Finding outliers of Square Feet column through IQR"
      ]
    },
    {
      "cell_type": "code",
      "execution_count": null,
      "id": "479ea8c4",
      "metadata": {
        "id": "479ea8c4",
        "outputId": "c2d65917-deed-400d-e3b3-2ceba47c8085"
      },
      "outputs": [
        {
          "data": {
            "text/html": [
              "<div>\n",
              "<style scoped>\n",
              "    .dataframe tbody tr th:only-of-type {\n",
              "        vertical-align: middle;\n",
              "    }\n",
              "\n",
              "    .dataframe tbody tr th {\n",
              "        vertical-align: top;\n",
              "    }\n",
              "\n",
              "    .dataframe thead th {\n",
              "        text-align: right;\n",
              "    }\n",
              "</style>\n",
              "<table border=\"1\" class=\"dataframe\">\n",
              "  <thead>\n",
              "    <tr style=\"text-align: right;\">\n",
              "      <th></th>\n",
              "      <th>House Age</th>\n",
              "      <th>Square Feet</th>\n",
              "      <th>Market Value</th>\n",
              "    </tr>\n",
              "  </thead>\n",
              "  <tbody>\n",
              "    <tr>\n",
              "      <th>13</th>\n",
              "      <td>32</td>\n",
              "      <td>2372</td>\n",
              "      <td>114000.0</td>\n",
              "    </tr>\n",
              "    <tr>\n",
              "      <th>14</th>\n",
              "      <td>32</td>\n",
              "      <td>2372</td>\n",
              "      <td>113200.0</td>\n",
              "    </tr>\n",
              "  </tbody>\n",
              "</table>\n",
              "</div>"
            ],
            "text/plain": [
              "    House Age  Square Feet  Market Value\n",
              "13         32         2372      114000.0\n",
              "14         32         2372      113200.0"
            ]
          },
          "execution_count": 15,
          "metadata": {},
          "output_type": "execute_result"
        }
      ],
      "source": [
        "q1_sf = sf.quantile(0.25)\n",
        "q2_sf = sf.quantile(0.5)\n",
        "q3_sf = sf.quantile(0.75)\n",
        "iqr_sf = q3_sf - q1_sf\n",
        "lower_bound_sf = q1_sf - 1.5 * iqr_sf\n",
        "upper_bound_sf = q3_sf + 1.5 * iqr_sf\n",
        "#using boolean to choose column in dataframe \"Too\"\n",
        "outliers_sf = too[(sf < lower_bound_sf) | (sf > upper_bound_sf)]\n",
        "outliers_sf"
      ]
    },
    {
      "cell_type": "code",
      "execution_count": null,
      "id": "c7d4b124",
      "metadata": {
        "id": "c7d4b124",
        "outputId": "b1ab86b7-d9d4-42f1-89f6-882f6160abeb"
      },
      "outputs": [
        {
          "name": "stdout",
          "output_type": "stream",
          "text": [
            "1520.0\n",
            "1666.0\n",
            "1796.25\n"
          ]
        }
      ],
      "source": [
        "print(q1_sf)\n",
        "print(q2_sf)\n",
        "print(q3_sf)"
      ]
    },
    {
      "cell_type": "markdown",
      "id": "42cb7418",
      "metadata": {
        "id": "42cb7418"
      },
      "source": [
        "## Step 4: Finding outliers of Market Value column through IQR"
      ]
    },
    {
      "cell_type": "code",
      "execution_count": null,
      "id": "1dfa9746",
      "metadata": {
        "id": "1dfa9746",
        "outputId": "6a419e93-8d64-4876-d554-58b8922a233c"
      },
      "outputs": [
        {
          "data": {
            "text/html": [
              "<div>\n",
              "<style scoped>\n",
              "    .dataframe tbody tr th:only-of-type {\n",
              "        vertical-align: middle;\n",
              "    }\n",
              "\n",
              "    .dataframe tbody tr th {\n",
              "        vertical-align: top;\n",
              "    }\n",
              "\n",
              "    .dataframe thead th {\n",
              "        text-align: right;\n",
              "    }\n",
              "</style>\n",
              "<table border=\"1\" class=\"dataframe\">\n",
              "  <thead>\n",
              "    <tr style=\"text-align: right;\">\n",
              "      <th></th>\n",
              "      <th>House Age</th>\n",
              "      <th>Square Feet</th>\n",
              "      <th>Market Value</th>\n",
              "    </tr>\n",
              "  </thead>\n",
              "  <tbody>\n",
              "    <tr>\n",
              "      <th>13</th>\n",
              "      <td>32</td>\n",
              "      <td>2372</td>\n",
              "      <td>114000.0</td>\n",
              "    </tr>\n",
              "    <tr>\n",
              "      <th>14</th>\n",
              "      <td>32</td>\n",
              "      <td>2372</td>\n",
              "      <td>113200.0</td>\n",
              "    </tr>\n",
              "    <tr>\n",
              "      <th>16</th>\n",
              "      <td>32</td>\n",
              "      <td>2123</td>\n",
              "      <td>116100.0</td>\n",
              "    </tr>\n",
              "    <tr>\n",
              "      <th>41</th>\n",
              "      <td>27</td>\n",
              "      <td>1581</td>\n",
              "      <td>120700.0</td>\n",
              "    </tr>\n",
              "    <tr>\n",
              "      <th>43</th>\n",
              "      <td>27</td>\n",
              "      <td>1581</td>\n",
              "      <td>120700.0</td>\n",
              "    </tr>\n",
              "  </tbody>\n",
              "</table>\n",
              "</div>"
            ],
            "text/plain": [
              "    House Age  Square Feet  Market Value\n",
              "13         32         2372      114000.0\n",
              "14         32         2372      113200.0\n",
              "16         32         2123      116100.0\n",
              "41         27         1581      120700.0\n",
              "43         27         1581      120700.0"
            ]
          },
          "execution_count": 17,
          "metadata": {},
          "output_type": "execute_result"
        }
      ],
      "source": [
        "q1_mv = mv.quantile(0.25)\n",
        "q2_mv = mv.quantile(0.5)\n",
        "q3_mv = mv.quantile(0.75)\n",
        "iqr_mv = q3_mv - q1_mv\n",
        "lower_bound_mv = q1_mv - 1.5 * iqr_mv\n",
        "upper_bound_mv = q3_mv + 1.5 * iqr_mv\n",
        "#using boolean to choose column in dataframe \"Too\"\n",
        "outliers_mv = too[(mv < lower_bound_mv) | (mv > upper_bound_mv)]\n",
        "outliers_mv"
      ]
    },
    {
      "cell_type": "code",
      "execution_count": null,
      "id": "f68a955e",
      "metadata": {
        "id": "f68a955e",
        "outputId": "ee3fb049-999a-4812-a607-d6d56eafa2dc"
      },
      "outputs": [
        {
          "name": "stdout",
          "output_type": "stream",
          "text": [
            "86925.0\n",
            "88900.0\n",
            "96700.0\n"
          ]
        }
      ],
      "source": [
        "print(q1_mv)\n",
        "print(q2_mv)\n",
        "print(q3_mv)"
      ]
    },
    {
      "cell_type": "markdown",
      "id": "2b568552",
      "metadata": {
        "id": "2b568552"
      },
      "source": [
        "# Step 4: Visualizing the outliers through IQR"
      ]
    },
    {
      "cell_type": "code",
      "execution_count": null,
      "id": "16999690",
      "metadata": {
        "id": "16999690",
        "outputId": "2cdcb1f4-31e5-4847-9d2b-2c86f6887e07"
      },
      "outputs": [
        {
          "data": {
            "image/png": "[encoded data removed]",
            "text/plain": [
              "<Figure size 1000x800 with 1 Axes>"
            ]
          },
          "metadata": {},
          "output_type": "display_data"
        }
      ],
      "source": [
        "# Setting colors for outliers\n",
        "outlier_color = dict(markerfacecolor='red')\n",
        "\n",
        "# Zoom the boxplot image\n",
        "plt.figure(figsize=(10, 8))\n",
        "\n",
        "# Draw boxplot with already set color above\n",
        "plt.boxplot(too, flierprops=outlier_color,labels=['House Age', 'Square Feet', 'Market Value'])\n",
        "\n",
        "# Adding grid\n",
        "plt.grid(True, axis='y', color='grey', linestyle='-', linewidth=0.5)\n",
        "\n",
        "# Adding text\n",
        "\"\"\"plt.text(1.1, q1_ha, f'Q1: {q1_ha:.2f}')\"\"\"\n",
        "plt.text(1.1, q2_ha, f'Q2: {q2_ha:.2f}')\n",
        "\"\"\"plt.text(1.1, q3_ha, f'Q3: {q3_ha:.2f}')\"\"\"\n",
        "\"\"\"plt.text(2.1, q1_sf, f'Q1: {q1_sf:.2f}')\"\"\"\n",
        "plt.text(2.1, q2_sf, f'Q2: {q2_sf:.2f}')\n",
        "\"\"\"plt.text(2.1, q3_sf, f'Q3: {q3_sf:.2f}')\"\"\"\n",
        "\"\"\"plt.text(3.1, q1_mv, f'Q1: {q1_sf:.2f}')\"\"\"\n",
        "plt.text(3.1, q2_mv, f'Q2: {q2_mv:.2f}')\n",
        "\"\"\"plt.text(3.1, q3_mv, f'Q3: {q3_sf:.2f}')\"\"\"\n",
        "\n",
        "\n",
        "# Adding text for outliers\n",
        "\"\"\"for i, outlier in enumerate(outliers):\n",
        "    #plt.text(i+1, outlier, f'Outlier: {outlier}')\"\"\"\n",
        "\n",
        "\n",
        "plt.show()"
      ]
    },
    {
      "cell_type": "code",
      "execution_count": null,
      "id": "89b2896b",
      "metadata": {
        "id": "89b2896b"
      },
      "outputs": [],
      "source": []
    }
  ],
  "metadata": {
    "kernelspec": {
      "display_name": "Python 3 (ipykernel)",
      "language": "python",
      "name": "python3"
    },
    "language_info": {
      "codemirror_mode": {
        "name": "ipython",
        "version": 3
      },
      "file_extension": ".py",
      "mimetype": "text/x-python",
      "name": "python",
      "nbconvert_exporter": "python",
      "pygments_lexer": "ipython3",
      "version": "3.11.2"
    },
    "colab": {
      "provenance": []
    }
  },
  "nbformat": 4,
  "nbformat_minor": 5
}